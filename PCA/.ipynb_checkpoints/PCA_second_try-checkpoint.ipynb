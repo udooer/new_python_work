{
 "cells": [
  {
   "cell_type": "code",
   "execution_count": 10,
   "metadata": {},
   "outputs": [],
   "source": [
    "import pandas as pd\n",
    "import numpy as np\n",
    "import matplotlib.pyplot as plt\n",
    "\n",
    "from sklearn.model_selection import train_test_split\n",
    "from sklearn.model_selection import cross_val_score\n",
    "from sklearn.model_selection import StratifiedKFold\n",
    "from sklearn.linear_model import LogisticRegression\n",
    "from sklearn.tree import DecisionTreeClassifier\n",
    "from sklearn.neighbors import KNeighborsClassifier\n",
    "from sklearn.discriminant_analysis import LinearDiscriminantAnalysis\n",
    "from sklearn.naive_bayes import GaussianNB\n",
    "from sklearn.svm import SVC\n",
    "\n",
    "from sklearn.metrics import classification_report\n",
    "from sklearn.metrics import confusion_matrix\n",
    "from sklearn.metrics import accuracy_score"
   ]
  },
  {
   "cell_type": "code",
   "execution_count": 2,
   "metadata": {},
   "outputs": [],
   "source": [
    "df = pd.read_pickle(\"dol_feature_2\")"
   ]
  },
  {
   "cell_type": "code",
   "execution_count": 13,
   "metadata": {},
   "outputs": [
    {
     "name": "stderr",
     "output_type": "stream",
     "text": [
      "/home/yong/.local/lib/python3.6/site-packages/ipykernel_launcher.py:5: SettingWithCopyWarning: \n",
      "A value is trying to be set on a copy of a slice from a DataFrame.\n",
      "Try using .loc[row_indexer,col_indexer] = value instead\n",
      "\n",
      "See the caveats in the documentation: https://pandas.pydata.org/pandas-docs/stable/user_guide/indexing.html#returning-a-view-versus-a-copy\n",
      "  \"\"\"\n"
     ]
    },
    {
     "data": {
      "text/plain": [
       "[<matplotlib.axis.XTick at 0x7f0181d97668>,\n",
       " <matplotlib.axis.XTick at 0x7f0181d90f60>,\n",
       " <matplotlib.axis.XTick at 0x7f0181d90c88>,\n",
       " <matplotlib.axis.XTick at 0x7f0181d3e7b8>,\n",
       " <matplotlib.axis.XTick at 0x7f0181d3ec88>,\n",
       " <matplotlib.axis.XTick at 0x7f0181d46208>,\n",
       " <matplotlib.axis.XTick at 0x7f0181d46780>,\n",
       " <matplotlib.axis.XTick at 0x7f0181d46d68>,\n",
       " <matplotlib.axis.XTick at 0x7f0181d46748>,\n",
       " <matplotlib.axis.XTick at 0x7f0181d4d2e8>,\n",
       " <matplotlib.axis.XTick at 0x7f0181d4d860>,\n",
       " <matplotlib.axis.XTick at 0x7f0181d4ddd8>,\n",
       " <matplotlib.axis.XTick at 0x7f0181d53390>,\n",
       " <matplotlib.axis.XTick at 0x7f0181d53908>,\n",
       " <matplotlib.axis.XTick at 0x7f0181d53e80>,\n",
       " <matplotlib.axis.XTick at 0x7f0181d5b438>,\n",
       " <matplotlib.axis.XTick at 0x7f0181d53438>,\n",
       " <matplotlib.axis.XTick at 0x7f0181d4d828>,\n",
       " <matplotlib.axis.XTick at 0x7f0181d5bb38>,\n",
       " <matplotlib.axis.XTick at 0x7f0181d5be80>]"
      ]
     },
     "execution_count": 13,
     "metadata": {},
     "output_type": "execute_result"
    },
    {
     "data": {
      "image/png": "[encoded data removed]",
      "text/plain": [
       "<Figure size 432x288 with 1 Axes>"
      ]
     },
     "metadata": {
      "needs_background": "light"
     },
     "output_type": "display_data"
    }
   ],
   "source": [
    "feature_col = [\"feature {}\".format(i) for i in range(1,514)]\n",
    "df_X = df[feature_col]\n",
    "\n",
    "for col in feature_col:\n",
    "    df_X[col] = (df_X[col]-df_X[col].mean())/df_X[col].std()\n",
    "X = df_X[feature_col].values\n",
    "R = X.T @ X/(X.shape[0]-1)\n",
    "eig_value, eig_vector = np.linalg.eig(R)\n",
    "cumsum = np.cumsum(eig_value)/np.sum(eig_value)\n",
    "fig, ax = plt.subplots()\n",
    "ax.set_title(\"Culmulative plot of PC\")\n",
    "ax.set_xlabel(\"PC\")\n",
    "ax.set_ylabel(\"Cumulative explained variance\")\n",
    "ax.plot(range(1,21),cumsum[:20])\n",
    "ax.set_xticks(range(1,21))"
   ]
  },
  {
   "cell_type": "code",
   "execution_count": 4,
   "metadata": {},
   "outputs": [
    {
     "data": {
      "text/plain": [
       "87.1108619822713"
      ]
     },
     "execution_count": 4,
     "metadata": {},
     "output_type": "execute_result"
    }
   ],
   "source": [
    "np.sum((eig_value/sum(eig_value)*100)[:20])"
   ]
  },
  {
   "cell_type": "code",
   "execution_count": 5,
   "metadata": {},
   "outputs": [],
   "source": [
    "Z = X @ eig_vector[:,:20]\n",
    "# for i in range(6):\n",
    "#     Z[:,i] = (Z[:,i]-np.mean(Z[:,i]))/np.std(Z[:,i], ddof=1)"
   ]
  },
  {
   "cell_type": "code",
   "execution_count": 6,
   "metadata": {},
   "outputs": [
    {
     "name": "stdout",
     "output_type": "stream",
     "text": [
      "LR: 0.797917 (0.029167)\n",
      "LDA: 0.766667 (0.032342)\n",
      "KNN: 0.864583 (0.040612)\n",
      "CART: 0.829167 (0.037034)\n",
      "NB: 0.692708 (0.028432)\n",
      "SVM: 0.911458 (0.030636)\n"
     ]
    }
   ],
   "source": [
    "Y = df[\"target\"].values\n",
    "X_train, X_validation, Y_train, Y_validation = train_test_split(Z, Y, test_size=0.20, random_state=1, shuffle=True)\n",
    "models = []\n",
    "models.append(('LR', LogisticRegression(solver='liblinear', multi_class='ovr')))\n",
    "models.append(('LDA', LinearDiscriminantAnalysis()))\n",
    "models.append(('KNN', KNeighborsClassifier()))\n",
    "models.append(('CART', DecisionTreeClassifier()))\n",
    "models.append(('NB', GaussianNB()))\n",
    "models.append(('SVM', SVC(gamma='auto')))\n",
    "results = []\n",
    "names = []\n",
    "for name, model in models:\n",
    "    kfold = StratifiedKFold(n_splits=10, random_state=1, shuffle=True)\n",
    "    cv_results = cross_val_score(model, X_train, Y_train, cv=kfold, scoring='accuracy')\n",
    "    results.append(cv_results)\n",
    "    names.append(name)\n",
    "    print('%s: %f (%f)' % (name, cv_results.mean(), cv_results.std()))"
   ]
  },
  {
   "cell_type": "code",
   "execution_count": 7,
   "metadata": {},
   "outputs": [
    {
     "data": {
      "image/png": "[encoded data removed]",
      "text/plain": [
       "<Figure size 432x288 with 1 Axes>"
      ]
     },
     "metadata": {
      "needs_background": "light"
     },
     "output_type": "display_data"
    }
   ],
   "source": [
    "plt.boxplot(results, labels=names)\n",
    "plt.title('Algorithm Comparison')\n",
    "plt.show()"
   ]
  },
  {
   "cell_type": "code",
   "execution_count": 8,
   "metadata": {},
   "outputs": [],
   "source": [
    "model = SVC(gamma='auto')\n",
    "model.fit(X_train, Y_train)\n",
    "predictions = model.predict(X_validation)"
   ]
  },
  {
   "cell_type": "code",
   "execution_count": 11,
   "metadata": {},
   "outputs": [
    {
     "name": "stdout",
     "output_type": "stream",
     "text": [
      "0.925\n",
      "[[103  11]\n",
      " [  7 119]]\n",
      "              precision    recall  f1-score   support\n",
      "\n",
      "         0.0       0.94      0.90      0.92       114\n",
      "         1.0       0.92      0.94      0.93       126\n",
      "\n",
      "    accuracy                           0.93       240\n",
      "   macro avg       0.93      0.92      0.92       240\n",
      "weighted avg       0.93      0.93      0.92       240\n",
      "\n"
     ]
    }
   ],
   "source": [
    "print(accuracy_score(Y_validation, predictions))\n",
    "print(confusion_matrix(Y_validation, predictions))\n",
    "print(classification_report(Y_validation, predictions))"
   ]
  }
 ],
 "metadata": {
  "kernelspec": {
   "display_name": "Python 3",
   "language": "python",
   "name": "python3"
  },
  "language_info": {
   "codemirror_mode": {
    "name": "ipython",
    "version": 3
   },
   "file_extension": ".py",
   "mimetype": "text/x-python",
   "name": "python",
   "nbconvert_exporter": "python",
   "pygments_lexer": "ipython3",
   "version": "3.6.9"
  }
 },
 "nbformat": 4,
 "nbformat_minor": 4
}
