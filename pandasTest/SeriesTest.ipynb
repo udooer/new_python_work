{
 "cells": [
  {
   "cell_type": "code",
   "execution_count": 9,
   "id": "spiritual-process",
   "metadata": {},
   "outputs": [],
   "source": [
    "import pandas as pd\n",
    "import numpy as np"
   ]
  },
  {
   "cell_type": "code",
   "execution_count": 4,
   "id": "distinct-necklace",
   "metadata": {
    "scrolled": true
   },
   "outputs": [
    {
     "name": "stdout",
     "output_type": "stream",
     "text": [
      "index of the series: RangeIndex(start=0, stop=4, step=1)\n",
      "values of the series: [ 1 78 56 58]\n",
      "\n",
      "type of the series index: <class 'pandas.core.indexes.range.RangeIndex'>\n",
      "type of the series values: <class 'numpy.ndarray'>\n"
     ]
    }
   ],
   "source": [
    "data = [1, 78, 56, 58]\n",
    "s = pd.Series(data)\n",
    "print(\"index of the series:\", s.index)\n",
    "print(\"values of the series:\", s.values)\n",
    "print()\n",
    "print(\"type of the series index:\", type(s.index))\n",
    "print(\"type of the series values:\", type(s.values))"
   ]
  },
  {
   "cell_type": "code",
   "execution_count": 5,
   "id": "anticipated-semiconductor",
   "metadata": {},
   "outputs": [
    {
     "name": "stdout",
     "output_type": "stream",
     "text": [
      "index of the series: Index(['s', 'g', 'h', 'j'], dtype='object')\n",
      "values of the series: [ 1 78 56 58]\n",
      "\n",
      "type of the series index: <class 'pandas.core.indexes.base.Index'>\n",
      "type of the series values: <class 'numpy.ndarray'>\n"
     ]
    }
   ],
   "source": [
    "data = {\"s\":1, \"g\":78, \"h\":56, \"j\":58}\n",
    "s = pd.Series(data)\n",
    "print(\"index of the series:\", s.index)\n",
    "print(\"values of the series:\", s.values)\n",
    "print()\n",
    "print(\"type of the series index:\", type(s.index))\n",
    "print(\"type of the series values:\", type(s.values))"
   ]
  },
  {
   "cell_type": "code",
   "execution_count": 7,
   "id": "ongoing-roads",
   "metadata": {},
   "outputs": [
    {
     "name": "stdout",
     "output_type": "stream",
     "text": [
      "type of pandas Series: <class 'pandas.core.series.Series'>\n"
     ]
    }
   ],
   "source": [
    "data = {\"s\":1, \"g\":78, \"h\":56, \"j\":58}\n",
    "s = pd.Series(data)\n",
    "print(\"type of pandas Series:\", type(s))"
   ]
  },
  {
   "cell_type": "code",
   "execution_count": 11,
   "id": "respective-corruption",
   "metadata": {},
   "outputs": [
    {
     "name": "stdout",
     "output_type": "stream",
     "text": [
      "s    0.841471\n",
      "g    0.513978\n",
      "h   -0.521551\n",
      "j    0.992873\n",
      "dtype: float64\n"
     ]
    }
   ],
   "source": [
    "data = {\"s\":1, \"g\":78, \"h\":56, \"j\":58}\n",
    "s = pd.Series(data)\n",
    "print(s.apply(np.sin))"
   ]
  },
  {
   "cell_type": "code",
   "execution_count": 17,
   "id": "radical-louisiana",
   "metadata": {},
   "outputs": [
    {
     "name": "stdout",
     "output_type": "stream",
     "text": [
      "s.shape: (4,)\n",
      "s.size: 4\n",
      "s.name: None\n",
      "s.index: Index(['s', 'g', 'h', 'j'], dtype='object')\n",
      "s.values: [ 1 78 56 58]\n",
      "s.T: s     1\n",
      "g    78\n",
      "h    56\n",
      "j    58\n",
      "dtype: int64\n",
      "s: s     1\n",
      "g    78\n",
      "h    56\n",
      "j    58\n",
      "dtype: int64\n"
     ]
    }
   ],
   "source": [
    "data = {\"s\":1, \"g\":78, \"h\":56, \"j\":58}\n",
    "s = pd.Series(data)\n",
    "print(\"s.shape:\", s.shape)\n",
    "print(\"s.size:\", s.size)\n",
    "print(\"s.name:\", s.name)\n",
    "print(\"s.index:\", s.index)\n",
    "print(\"s.values:\", s.values)\n",
    "print(\"s.T:\", s.T)\n",
    "print(\"s:\", s)"
   ]
  },
  {
   "cell_type": "code",
   "execution_count": 20,
   "id": "after-isolation",
   "metadata": {},
   "outputs": [
    {
     "name": "stdout",
     "output_type": "stream",
     "text": [
      "s     1\n",
      "g    78\n",
      "h    56\n",
      "j    58\n",
      "dtype: int64\n"
     ]
    }
   ],
   "source": [
    "print(s)"
   ]
  },
  {
   "cell_type": "code",
   "execution_count": null,
   "id": "dangerous-import",
   "metadata": {},
   "outputs": [],
   "source": []
  }
 ],
 "metadata": {
  "kernelspec": {
   "display_name": "Python 3",
   "language": "python",
   "name": "python3"
  },
  "language_info": {
   "codemirror_mode": {
    "name": "ipython",
    "version": 3
   },
   "file_extension": ".py",
   "mimetype": "text/x-python",
   "name": "python",
   "nbconvert_exporter": "python",
   "pygments_lexer": "ipython3",
   "version": "3.9.1"
  }
 },
 "nbformat": 4,
 "nbformat_minor": 5
}
