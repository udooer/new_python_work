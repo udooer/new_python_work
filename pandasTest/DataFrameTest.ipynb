{
 "cells": [
  {
   "cell_type": "code",
   "execution_count": 1,
   "id": "outside-tracy",
   "metadata": {},
   "outputs": [],
   "source": [
    "import pandas as pd"
   ]
  },
  {
   "cell_type": "code",
   "execution_count": 2,
   "id": "backed-tennis",
   "metadata": {},
   "outputs": [],
   "source": [
    "dists = {\"name\":[\"中正區\", \"板橋區\", \"桃園區\", \"北屯區\"],\n",
    "         \"population\":[152, 146, 21, 344],\n",
    "         \"city\":[\"台北市\", \"新北市\", \"桃園市\", \"台中市\"]}\n",
    "df = pd.DataFrame(dists)"
   ]
  },
  {
   "cell_type": "code",
   "execution_count": 4,
   "id": "appreciated-malaysia",
   "metadata": {},
   "outputs": [
    {
     "name": "stdout",
     "output_type": "stream",
     "text": [
      "s:   name  population city\n",
      "0  中正區         152  台北市\n",
      "1  板橋區         146  新北市\n",
      "2  桃園區          21  桃園市\n",
      "3  北屯區         344  台中市\n",
      "s.index: RangeIndex(start=0, stop=4, step=1)\n",
      "s.columns: Index(['name', 'population', 'city'], dtype='object')\n"
     ]
    }
   ],
   "source": [
    "print(\"df:\", df)\n",
    "print(\"df.index:\", df.index)\n",
    "print(\"df.columns:\", df.columns)"
   ]
  },
  {
   "cell_type": "code",
   "execution_count": 9,
   "id": "competitive-missile",
   "metadata": {},
   "outputs": [
    {
     "name": "stdout",
     "output_type": "stream",
     "text": [
      "original df is :\n",
      "   name  population city\n",
      "0  中正區         152  台北市\n",
      "1  板橋區         146  新北市\n",
      "2  桃園區          21  桃園市\n",
      "3  北屯區         344  台中市\n",
      "after changing cloumns:\n",
      "\n",
      "  city name  population\n",
      "0  台北市  中正區         152\n",
      "1  新北市  板橋區         146\n",
      "2  桃園市  桃園區          21\n",
      "3  台中市  北屯區         344\n"
     ]
    }
   ],
   "source": [
    "dists = {\"name\":[\"中正區\", \"板橋區\", \"桃園區\", \"北屯區\"],\n",
    "         \"population\":[152, 146, 21, 344],\n",
    "         \"city\":[\"台北市\", \"新北市\", \"桃園市\", \"台中市\"]}\n",
    "df = pd.DataFrame(dists)\n",
    "print(\"original df is :\\n\", df)\n",
    "print(\"after changing cloumns:\\n\")\n",
    "df = pd.DataFrame(dists, columns=[\"city\", \"name\", \"population\"])\n",
    "print(df)"
   ]
  },
  {
   "cell_type": "code",
   "execution_count": 12,
   "id": "arctic-radiation",
   "metadata": {},
   "outputs": [
    {
     "name": "stdout",
     "output_type": "stream",
     "text": [
      "              0    1    2    3\n",
      "city        台北市  新北市  桃園市  台中市\n",
      "name        中正區  板橋區  桃園區  北屯區\n",
      "population  152  146   21  344\n",
      "Index(['city', 'name', 'population'], dtype='object')\n",
      "RangeIndex(start=0, stop=4, step=1)\n"
     ]
    }
   ],
   "source": [
    "dfT = df.T\n",
    "print(dfT)\n",
    "print(dfT.index)\n",
    "print(dfT.columns)"
   ]
  },
  {
   "cell_type": "code",
   "execution_count": 16,
   "id": "printable-latino",
   "metadata": {},
   "outputs": [
    {
     "name": "stdout",
     "output_type": "stream",
     "text": [
      "the first 2 rows\n",
      "   city name  population\n",
      "0  台北市  中正區         152\n",
      "1  新北市  板橋區         146\n",
      "\n",
      "the last 2 rows\n",
      "   city name  population\n",
      "2  桃園市  桃園區          21\n",
      "3  台中市  北屯區         344\n"
     ]
    }
   ],
   "source": [
    "dists = {\"name\":[\"中正區\", \"板橋區\", \"桃園區\", \"北屯區\"],\n",
    "         \"population\":[152, 146, 21, 344],\n",
    "         \"city\":[\"台北市\", \"新北市\", \"桃園市\", \"台中市\"]}\n",
    "df = pd.DataFrame(dists, columns=[\"city\", \"name\", \"population\"])\n",
    "print(\"the first 2 rows\\n\", df.head(2))\n",
    "print(\"\\nthe last 2 rows\\n\", df.tail(2))"
   ]
  },
  {
   "cell_type": "code",
   "execution_count": 30,
   "id": "later-liabilities",
   "metadata": {},
   "outputs": [
    {
     "name": "stdout",
     "output_type": "stream",
     "text": [
      "['台北市' '中正區' 152]\n",
      "['新北市' '板橋區' 146]\n",
      "['桃園市' '桃園區' 21]\n",
      "['台中市' '北屯區' 344]\n"
     ]
    }
   ],
   "source": [
    "for i, data in df.iterrows():\n",
    "    print(data.values)"
   ]
  },
  {
   "cell_type": "code",
   "execution_count": null,
   "id": "sublime-helmet",
   "metadata": {},
   "outputs": [],
   "source": []
  }
 ],
 "metadata": {
  "kernelspec": {
   "display_name": "Python 3",
   "language": "python",
   "name": "python3"
  },
  "language_info": {
   "codemirror_mode": {
    "name": "ipython",
    "version": 3
   },
   "file_extension": ".py",
   "mimetype": "text/x-python",
   "name": "python",
   "nbconvert_exporter": "python",
   "pygments_lexer": "ipython3",
   "version": "3.9.1"
  }
 },
 "nbformat": 4,
 "nbformat_minor": 5
}
