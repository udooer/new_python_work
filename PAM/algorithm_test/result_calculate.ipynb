{
 "cells": [
  {
   "cell_type": "code",
   "execution_count": 4,
   "metadata": {},
   "outputs": [],
   "source": [
    "import pandas as pd\n",
    "w = pd.read_csv(\"whistle_features_manwork_right.csv\")\n",
    "manwork_ans = w.iloc[:,0:2][w.iloc[:,1]<60*10]\n",
    "for i in range(5,21):\n",
    "    filename = \"whistle_test_SNR_\" + str(i) + \".csv\"\n",
    "    test = pd.read_csv(filename)\n",
    "    feature = []\n",
    "    col = [\"Start Time\", \"End Time\", \"Exist\"]\n",
    "    for index, row in test.iterrows():\n",
    "        feature.append([row[\"Start Time\"], row[\"End Time\"], False])\n",
    "    df_fre = pd.DataFrame(feature, columns=col)\n",
    "    \n",
    "    feature = []\n",
    "    col = [\"Start Time\", \"End Time\", \"Detected\", \"Percentage\"]\n",
    "    for index, row in manwork_ans.iterrows():\n",
    "        whistle_start = row[\"Time_Start\"]\n",
    "        whistle_end = row[\"Time_End\"]\n",
    "        whistle_duration = whistle_end-whistle_start\n",
    "        percentage = 0\n",
    "        for index, row in df_fre.iterrows():\n",
    "            detection_start = row[\"Start Time\"]\n",
    "            detection_end = row[\"End Time\"]\n",
    "            detection_duration = whistle_duration\n",
    "            if(detection_end>whistle_start and whistle_end>detection_start):\n",
    "                df_fre.iloc[index, 2] = True\n",
    "                if(detection_end<whistle_end):\n",
    "                    detection_duration-=whistle_end-detection_end\n",
    "                if(detection_start>whistle_start):\n",
    "                    detection_duration-=detection_start-whistle_start\n",
    "                percentage += detection_duration/whistle_duration \n",
    "            if(detection_start>whistle_end+2):\n",
    "                if(percentage):\n",
    "                    if(percentage>1):\n",
    "                        percentage=1\n",
    "                    feature.append([whistle_start, whistle_end, True, percentage])\n",
    "                else:\n",
    "                    feature.append([whistle_start, whistle_end, False, percentage])\n",
    "                break;\n",
    "    df_fre_whistle = pd.DataFrame(feature, columns=col)\n",
    "    filename = r\"/home/yong/new_python_work/PAM/algorithm_test/result/detection_\" + str(i) + \".csv\"\n",
    "    df_fre_whistle.to_csv(filename, mode='w', header=True, index=False)\n",
    "    filename = r\"/home/yong/new_python_work/PAM/algorithm_test/result/falseAlarm_\"+ str(i) + \".csv\"\n",
    "    df_fre.to_csv(filename, mode='w', header=True, index=False)  "
   ]
  },
  {
   "cell_type": "code",
   "execution_count": 28,
   "metadata": {},
   "outputs": [
    {
     "name": "stdout",
     "output_type": "stream",
     "text": [
      "Creation of the directory failed\n"
     ]
    }
   ],
   "source": [
    "import pandas as pd\n",
    "import os\n",
    "w = pd.read_csv(\"whistle_features_manwork_right.csv\")\n",
    "manwork_ans = w\n",
    "for j in range(1,2):\n",
    "    jj = j*12\n",
    "    path = \"/home/yong/new_python_work/PAM/algorithm_test/detect_full_overlab50_SNR12_window0.02\" \n",
    "    target_path = \"/home/yong/new_python_work/PAM/algorithm_test/result_full_overlab50_SNR12_window0.02\" \n",
    "    try:\n",
    "        os.mkdir(target_path)\n",
    "    except OSError:\n",
    "        print(\"Creation of the directory failed\")\n",
    "        \n",
    "    for i in range(1):\n",
    "        ii = i*0.005+0.005\n",
    "        filename = path + \"/whistle_30min_test.csv\"\n",
    "        test = pd.read_csv(filename)\n",
    "        feature = []\n",
    "        col = [\"Start Time\", \"End Time\", \"Exist\"]\n",
    "        for index, row in test.iterrows():\n",
    "            feature.append([row[\"Start Time\"], row[\"End Time\"], False])\n",
    "        df_fre = pd.DataFrame(feature, columns=col)\n",
    "\n",
    "        feature = []\n",
    "        col = [\"Start Time\", \"End Time\", \"Detected\", \"Percentage\"]\n",
    "        for index, row in manwork_ans.iterrows():\n",
    "            whistle_start = row[\"Start Time\"]\n",
    "            whistle_end = row[\"End Time\"]\n",
    "            whistle_duration = whistle_end-whistle_start\n",
    "            percentage = 0\n",
    "            for index, row in df_fre.iterrows():\n",
    "                detection_start = row[\"Start Time\"]\n",
    "                detection_end = row[\"End Time\"]\n",
    "                detection_duration = whistle_duration\n",
    "                if(detection_end>whistle_start and whistle_end>detection_start):\n",
    "                    df_fre.iloc[index, 2] = True\n",
    "                    if(detection_end<whistle_end):\n",
    "                        detection_duration-=whistle_end-detection_end\n",
    "                    if(detection_start>whistle_start):\n",
    "                        detection_duration-=detection_start-whistle_start\n",
    "                    percentage += detection_duration/whistle_duration \n",
    "                if(detection_start>whistle_end+2):\n",
    "                    if(percentage):\n",
    "                        if(percentage>1):\n",
    "                            percentage=1\n",
    "                        feature.append([whistle_start, whistle_end, True, percentage])\n",
    "                    else:\n",
    "                        feature.append([whistle_start, whistle_end, False, percentage])\n",
    "                    break;\n",
    "        df_fre_whistle = pd.DataFrame(feature, columns=col)\n",
    "        filename = target_path + \"/detection.csv\"\n",
    "        df_fre_whistle.to_csv(filename, mode='w', header=True, index=False)\n",
    "        filename = target_path + \"/falseAlarm.csv\"\n",
    "        df_fre.to_csv(filename, mode='w', header=True, index=False) "
   ]
  },
  {
   "cell_type": "code",
   "execution_count": 17,
   "metadata": {},
   "outputs": [
    {
     "data": {
      "text/plain": [
       "1.0"
      ]
     },
     "execution_count": 17,
     "metadata": {},
     "output_type": "execute_result"
    }
   ],
   "source": [
    "import pandas as pd\n",
    "w = pd.read_csv(\"whistle_features_manwork.csv\")\n",
    "duration = 0\n",
    "count = ((w.iloc[:,1]-w.iloc[:,0])>duration)[(w.iloc[:,1]-w.iloc[:,0])>duration].count()\n",
    "count/(w.iloc[:,0].count())"
   ]
  },
  {
   "cell_type": "code",
   "execution_count": 20,
   "metadata": {},
   "outputs": [
    {
     "data": {
      "text/plain": [
       "0.6480836236933798"
      ]
     },
     "execution_count": 20,
     "metadata": {},
     "output_type": "execute_result"
    }
   ],
   "source": [
    "558/861"
   ]
  },
  {
   "cell_type": "code",
   "execution_count": 30,
   "metadata": {},
   "outputs": [
    {
     "data": {
      "text/plain": [
       "count       861\n",
       "unique        2\n",
       "top       False\n",
       "freq        857\n",
       "dtype: object"
      ]
     },
     "execution_count": 30,
     "metadata": {},
     "output_type": "execute_result"
    }
   ],
   "source": [
    "(((w.iloc[:,1]-w.iloc[:,0])<0)==True).describe()"
   ]
  },
  {
   "cell_type": "code",
   "execution_count": null,
   "metadata": {},
   "outputs": [],
   "source": []
  }
 ],
 "metadata": {
  "kernelspec": {
   "display_name": "Python 3",
   "language": "python",
   "name": "python3"
  },
  "language_info": {
   "codemirror_mode": {
    "name": "ipython",
    "version": 3
   },
   "file_extension": ".py",
   "mimetype": "text/x-python",
   "name": "python",
   "nbconvert_exporter": "python",
   "pygments_lexer": "ipython3",
   "version": "3.6.9"
  }
 },
 "nbformat": 4,
 "nbformat_minor": 4
}
