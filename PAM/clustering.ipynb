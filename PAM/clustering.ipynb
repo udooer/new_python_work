{
 "cells": [
  {
   "cell_type": "code",
   "execution_count": 1,
   "metadata": {},
   "outputs": [],
   "source": [
    "import numpy as np\n",
    "import matplotlib.pyplot as plt\n",
    "import math"
   ]
  },
  {
   "cell_type": "code",
   "execution_count": 7,
   "metadata": {},
   "outputs": [],
   "source": [
    "fs = 96000\n",
    "#\n",
    "fft_number = 1024\n",
    "overlab = 0.5\n",
    "window_type = 'hann'\n",
    "#\n",
    "hop_size = math.ceil(fft_number*(1-overlab))\n",
    "half_size = math.ceil((fft_number+1)/2)\n",
    "#\n",
    "start_fre = 3000\n",
    "end_fre = 10000\n",
    "\n",
    "threshold = 2\n",
    "frequency_width = 300\n",
    "\n",
    "df = fs/fft_number\n",
    "dt = hop_size/fs\n",
    "\n",
    "f = np.arange(half_size)*fs/fft_number\n",
    "\n",
    "start_index = math.floor((start_fre)/df)\n",
    "end_index = math.ceil((end_fre)/df)\n",
    "width_size = math.ceil(frequency_width/2/df)"
   ]
  },
  {
   "cell_type": "code",
   "execution_count": 8,
   "metadata": {},
   "outputs": [],
   "source": [
    "with open(\"detection.npy\",\"rb\") as file:\n",
    "    detection = np.load(file)"
   ]
  },
  {
   "cell_type": "code",
   "execution_count": 6,
   "metadata": {},
   "outputs": [
    {
     "data": {
      "text/plain": [
       "(75, 3749)"
      ]
     },
     "execution_count": 6,
     "metadata": {},
     "output_type": "execute_result"
    }
   ],
   "source": [
    "detection.shape"
   ]
  },
  {
   "cell_type": "code",
   "execution_count": 22,
   "metadata": {},
   "outputs": [
    {
     "data": {
      "image/png": "[encoded data removed]",
      "text/plain": [
       "<Figure size 3600x360 with 2 Axes>"
      ]
     },
     "metadata": {
      "needs_background": "light"
     },
     "output_type": "display_data"
    }
   ],
   "source": [
    "fig, ax = plt.subplots(figsize=(50,5))\n",
    "im = ax.imshow(detection, cmap='binary',  origin='lower', aspect='auto',\n",
    "               interpolation='hanning', extent=(0, 20, f[start_index]/1000, f[end_index]/1000))\n",
    "ax.set_ylim([0,20])\n",
    "ax.set_xlabel(\"Time(s)\")\n",
    "ax.set_ylabel(\"Frequency(KHz)\")\n",
    "c_bar = fig.colorbar(im)\n",
    "plt.show()"
   ]
  },
  {
   "cell_type": "code",
   "execution_count": 15,
   "metadata": {},
   "outputs": [],
   "source": [
    "import matplotlib.pyplot as plt\n",
    "from sklearn.cluster import DBSCAN"
   ]
  },
  {
   "cell_type": "code",
   "execution_count": 16,
   "metadata": {},
   "outputs": [],
   "source": [
    "(x,y) = np.nonzero(detection.T)\n",
    "c = np.array([x,y]).T"
   ]
  },
  {
   "cell_type": "code",
   "execution_count": 17,
   "metadata": {},
   "outputs": [],
   "source": [
    "clustering=DBSCAN(eps=20,min_samples=10).fit(c)"
   ]
  },
  {
   "cell_type": "code",
   "execution_count": 47,
   "metadata": {},
   "outputs": [],
   "source": [
    "point = c[clustering.labels_!=-1]\n",
    "new_label = clustering.labels_[clustering.labels_!=-1]"
   ]
  },
  {
   "cell_type": "code",
   "execution_count": 42,
   "metadata": {},
   "outputs": [],
   "source": [
    "point_x = point.T[0]*dt\n",
    "point_y = point.T[1]*df/1000+3"
   ]
  },
  {
   "cell_type": "code",
   "execution_count": 53,
   "metadata": {},
   "outputs": [
    {
     "data": {
      "text/html": [
       "<div>\n",
       "<style scoped>\n",
       "    .dataframe tbody tr th:only-of-type {\n",
       "        vertical-align: middle;\n",
       "    }\n",
       "\n",
       "    .dataframe tbody tr th {\n",
       "        vertical-align: top;\n",
       "    }\n",
       "\n",
       "    .dataframe thead th {\n",
       "        text-align: right;\n",
       "    }\n",
       "</style>\n",
       "<table border=\"1\" class=\"dataframe\">\n",
       "  <thead>\n",
       "    <tr style=\"text-align: right;\">\n",
       "      <th></th>\n",
       "      <th>Start Freq</th>\n",
       "      <th>End Freq</th>\n",
       "      <th>Start Time</th>\n",
       "      <th>End Time</th>\n",
       "      <th>Duration</th>\n",
       "    </tr>\n",
       "  </thead>\n",
       "  <tbody>\n",
       "  </tbody>\n",
       "</table>\n",
       "</div>"
      ],
      "text/plain": [
       "Empty DataFrame\n",
       "Columns: [Start Freq, End Freq, Start Time, End Time, Duration]\n",
       "Index: []"
      ]
     },
     "execution_count": 53,
     "metadata": {},
     "output_type": "execute_result"
    }
   ],
   "source": [
    "import pandas as pd\n",
    "df = pd.DataFrame(columns = ['Start Freq','End Freq', 'Start Time', 'End Time', 'Duration'])"
   ]
  },
  {
   "cell_type": "code",
   "execution_count": 96,
   "metadata": {},
   "outputs": [],
   "source": [
    "length = len(set(new_label))\n",
    "col = ['Start Time','End Time','Start Freq','End Freq','Duration']\n",
    "feature = []\n",
    "for i in range(0,10):\n",
    "    cluster_x = point_x[new_label==i]\n",
    "    cluster_y = point_y[new_label==i]\n",
    "    feature.append([cluster_x[0], cluster_x[-1], cluster_y[0], cluster_y[-1], cluster_x[-1]-cluster_x[0]])\n",
    "df = pd.DataFrame(feature, columns=col)"
   ]
  },
  {
   "cell_type": "code",
   "execution_count": 97,
   "metadata": {},
   "outputs": [],
   "source": [
    "df.to_csv('whislte_detection_outcome.csv', mode='w', header=True,index=False)"
   ]
  },
  {
   "cell_type": "code",
   "execution_count": 94,
   "metadata": {},
   "outputs": [],
   "source": [
    "feature_2 = []\n",
    "for i in range(10, length):\n",
    "    cluster_x = point_x[new_label==i]\n",
    "    cluster_y = point_y[new_label==i]\n",
    "    feature_2.append([cluster_x[0], cluster_x[-1], cluster_y[0], cluster_y[-1], cluster_x[-1]-cluster_x[0]])\n",
    "df = pd.DataFrame(feature_2, columns=col)\n",
    "if os.path.isfile('whislte_detection_outcome.csv'):\n",
    "    df.to_csv('whislte_detection_outcome.csv', mode='a', header=False,index=False)"
   ]
  },
  {
   "cell_type": "code",
   "execution_count": 91,
   "metadata": {},
   "outputs": [
    {
     "name": "stdout",
     "output_type": "stream",
     "text": [
      "File exist\n"
     ]
    }
   ],
   "source": [
    "import os.path\n",
    "\n",
    "if os.path.isfile('whislte_detection_outcome.csv'):\n",
    "    print (\"File exist\")\n",
    "else:\n",
    "    print (\"File not exist\")"
   ]
  },
  {
   "cell_type": "code",
   "execution_count": 95,
   "metadata": {},
   "outputs": [
    {
     "data": {
      "text/html": [
       "<div>\n",
       "<style scoped>\n",
       "    .dataframe tbody tr th:only-of-type {\n",
       "        vertical-align: middle;\n",
       "    }\n",
       "\n",
       "    .dataframe tbody tr th {\n",
       "        vertical-align: top;\n",
       "    }\n",
       "\n",
       "    .dataframe thead th {\n",
       "        text-align: right;\n",
       "    }\n",
       "</style>\n",
       "<table border=\"1\" class=\"dataframe\">\n",
       "  <thead>\n",
       "    <tr style=\"text-align: right;\">\n",
       "      <th></th>\n",
       "      <th>Start Time</th>\n",
       "      <th>End Time</th>\n",
       "      <th>Start Freq</th>\n",
       "      <th>End Freq</th>\n",
       "      <th>Duration</th>\n",
       "    </tr>\n",
       "  </thead>\n",
       "  <tbody>\n",
       "    <tr>\n",
       "      <th>0</th>\n",
       "      <td>0.090667</td>\n",
       "      <td>0.346667</td>\n",
       "      <td>4.78125</td>\n",
       "      <td>6.75000</td>\n",
       "      <td>0.256000</td>\n",
       "    </tr>\n",
       "    <tr>\n",
       "      <th>1</th>\n",
       "      <td>0.485333</td>\n",
       "      <td>0.704000</td>\n",
       "      <td>4.12500</td>\n",
       "      <td>5.34375</td>\n",
       "      <td>0.218667</td>\n",
       "    </tr>\n",
       "    <tr>\n",
       "      <th>2</th>\n",
       "      <td>1.392000</td>\n",
       "      <td>1.445333</td>\n",
       "      <td>4.50000</td>\n",
       "      <td>4.78125</td>\n",
       "      <td>0.053333</td>\n",
       "    </tr>\n",
       "    <tr>\n",
       "      <th>3</th>\n",
       "      <td>2.736000</td>\n",
       "      <td>2.773333</td>\n",
       "      <td>6.09375</td>\n",
       "      <td>6.37500</td>\n",
       "      <td>0.037333</td>\n",
       "    </tr>\n",
       "    <tr>\n",
       "      <th>4</th>\n",
       "      <td>3.008000</td>\n",
       "      <td>3.434667</td>\n",
       "      <td>3.84375</td>\n",
       "      <td>3.65625</td>\n",
       "      <td>0.426667</td>\n",
       "    </tr>\n",
       "    <tr>\n",
       "      <th>5</th>\n",
       "      <td>4.544000</td>\n",
       "      <td>4.672000</td>\n",
       "      <td>3.84375</td>\n",
       "      <td>4.87500</td>\n",
       "      <td>0.128000</td>\n",
       "    </tr>\n",
       "    <tr>\n",
       "      <th>6</th>\n",
       "      <td>5.770667</td>\n",
       "      <td>5.829333</td>\n",
       "      <td>4.21875</td>\n",
       "      <td>5.15625</td>\n",
       "      <td>0.058667</td>\n",
       "    </tr>\n",
       "    <tr>\n",
       "      <th>7</th>\n",
       "      <td>7.920000</td>\n",
       "      <td>7.957333</td>\n",
       "      <td>4.68750</td>\n",
       "      <td>5.34375</td>\n",
       "      <td>0.037333</td>\n",
       "    </tr>\n",
       "    <tr>\n",
       "      <th>8</th>\n",
       "      <td>8.048000</td>\n",
       "      <td>8.325333</td>\n",
       "      <td>3.00000</td>\n",
       "      <td>4.78125</td>\n",
       "      <td>0.277333</td>\n",
       "    </tr>\n",
       "    <tr>\n",
       "      <th>9</th>\n",
       "      <td>8.074667</td>\n",
       "      <td>8.128000</td>\n",
       "      <td>5.90625</td>\n",
       "      <td>6.46875</td>\n",
       "      <td>0.053333</td>\n",
       "    </tr>\n",
       "    <tr>\n",
       "      <th>10</th>\n",
       "      <td>8.442667</td>\n",
       "      <td>8.538667</td>\n",
       "      <td>5.25000</td>\n",
       "      <td>5.25000</td>\n",
       "      <td>0.096000</td>\n",
       "    </tr>\n",
       "    <tr>\n",
       "      <th>11</th>\n",
       "      <td>9.093333</td>\n",
       "      <td>9.237333</td>\n",
       "      <td>3.00000</td>\n",
       "      <td>4.50000</td>\n",
       "      <td>0.144000</td>\n",
       "    </tr>\n",
       "    <tr>\n",
       "      <th>12</th>\n",
       "      <td>10.666667</td>\n",
       "      <td>10.736000</td>\n",
       "      <td>6.18750</td>\n",
       "      <td>6.56250</td>\n",
       "      <td>0.069333</td>\n",
       "    </tr>\n",
       "    <tr>\n",
       "      <th>13</th>\n",
       "      <td>10.704000</td>\n",
       "      <td>10.848000</td>\n",
       "      <td>3.18750</td>\n",
       "      <td>3.56250</td>\n",
       "      <td>0.144000</td>\n",
       "    </tr>\n",
       "    <tr>\n",
       "      <th>14</th>\n",
       "      <td>10.954667</td>\n",
       "      <td>11.120000</td>\n",
       "      <td>3.93750</td>\n",
       "      <td>5.15625</td>\n",
       "      <td>0.165333</td>\n",
       "    </tr>\n",
       "  </tbody>\n",
       "</table>\n",
       "</div>"
      ],
      "text/plain": [
       "    Start Time   End Time  Start Freq  End Freq  Duration\n",
       "0     0.090667   0.346667     4.78125   6.75000  0.256000\n",
       "1     0.485333   0.704000     4.12500   5.34375  0.218667\n",
       "2     1.392000   1.445333     4.50000   4.78125  0.053333\n",
       "3     2.736000   2.773333     6.09375   6.37500  0.037333\n",
       "4     3.008000   3.434667     3.84375   3.65625  0.426667\n",
       "5     4.544000   4.672000     3.84375   4.87500  0.128000\n",
       "6     5.770667   5.829333     4.21875   5.15625  0.058667\n",
       "7     7.920000   7.957333     4.68750   5.34375  0.037333\n",
       "8     8.048000   8.325333     3.00000   4.78125  0.277333\n",
       "9     8.074667   8.128000     5.90625   6.46875  0.053333\n",
       "10    8.442667   8.538667     5.25000   5.25000  0.096000\n",
       "11    9.093333   9.237333     3.00000   4.50000  0.144000\n",
       "12   10.666667  10.736000     6.18750   6.56250  0.069333\n",
       "13   10.704000  10.848000     3.18750   3.56250  0.144000\n",
       "14   10.954667  11.120000     3.93750   5.15625  0.165333"
      ]
     },
     "execution_count": 95,
     "metadata": {},
     "output_type": "execute_result"
    }
   ],
   "source": [
    "df_2 = pd.read_csv('whislte_detection_outcome.csv')\n",
    "df_2"
   ]
  },
  {
   "cell_type": "code",
   "execution_count": 43,
   "metadata": {},
   "outputs": [
    {
     "data": {
      "text/plain": [
       "array([ 0.09066667,  0.09066667,  0.096     ,  0.096     ,  0.10133333,\n",
       "        0.10666667,  0.10666667,  0.112     ,  0.112     ,  0.11733333,\n",
       "        0.11733333,  0.12266667,  0.12266667,  0.128     ,  0.15466667,\n",
       "        0.16      ,  0.16      ,  0.16533333,  0.17066667,  0.176     ,\n",
       "        0.18133333,  0.25066667,  0.256     ,  0.256     ,  0.26133333,\n",
       "        0.26133333,  0.26666667,  0.26666667,  0.26666667,  0.272     ,\n",
       "        0.272     ,  0.27733333,  0.27733333,  0.28266667,  0.28266667,\n",
       "        0.288     ,  0.288     ,  0.29333333,  0.33066667,  0.336     ,\n",
       "        0.34666667,  0.48533333,  0.48533333,  0.49066667,  0.496     ,\n",
       "        0.50666667,  0.55466667,  0.56      ,  0.56      ,  0.56      ,\n",
       "        0.56533333,  0.56533333,  0.56533333,  0.57066667,  0.57066667,\n",
       "        0.57066667,  0.576     ,  0.576     ,  0.58133333,  0.61866667,\n",
       "        0.61866667,  0.624     ,  0.624     ,  0.62933333,  0.62933333,\n",
       "        0.63466667,  0.63466667,  0.64      ,  0.64      ,  0.64533333,\n",
       "        0.64533333,  0.64533333,  0.65066667,  0.65066667,  0.65066667,\n",
       "        0.656     ,  0.656     ,  0.656     ,  0.66133333,  0.66133333,\n",
       "        0.66133333,  0.66666667,  0.66666667,  0.66666667,  0.672     ,\n",
       "        0.672     ,  0.704     ,  0.704     ,  1.392     ,  1.39733333,\n",
       "        1.39733333,  1.39733333,  1.40266667,  1.40266667,  1.40266667,\n",
       "        1.42933333,  1.42933333,  1.43466667,  1.43466667,  1.44      ,\n",
       "        1.44533333,  2.736     ,  2.736     ,  2.74133333,  2.74666667,\n",
       "        2.752     ,  2.75733333,  2.76266667,  2.76266667,  2.768     ,\n",
       "        2.768     ,  2.77333333,  3.008     ,  3.008     ,  3.01333333,\n",
       "        3.01333333,  3.01866667,  3.024     ,  3.024     ,  3.02933333,\n",
       "        3.02933333,  3.03466667,  3.03466667,  3.04      ,  3.04      ,\n",
       "        3.04533333,  3.05066667,  3.056     ,  3.06133333,  3.06666667,\n",
       "        3.06666667,  3.072     ,  3.072     ,  3.07733333,  3.08266667,\n",
       "        3.08266667,  3.088     ,  3.088     ,  3.09333333,  3.09333333,\n",
       "        3.09866667,  3.09866667,  3.104     ,  3.10933333,  3.14666667,\n",
       "        3.21066667,  3.21066667,  3.216     ,  3.216     ,  3.22133333,\n",
       "        3.22133333,  3.22666667,  3.22666667,  3.232     ,  3.232     ,\n",
       "        3.23733333,  3.23733333,  3.24266667,  3.24266667,  3.248     ,\n",
       "        3.248     ,  3.25333333,  3.25333333,  3.25866667,  3.25866667,\n",
       "        3.264     ,  3.264     ,  3.26933333,  3.26933333,  3.27466667,\n",
       "        3.27466667,  3.28      ,  3.28      ,  3.28533333,  3.28533333,\n",
       "        3.29066667,  3.29066667,  3.296     ,  3.296     ,  3.30133333,\n",
       "        3.30133333,  3.30133333,  3.30666667,  3.30666667,  3.30666667,\n",
       "        3.312     ,  3.312     ,  3.312     ,  3.31733333,  3.36533333,\n",
       "        3.36533333,  3.36533333,  3.36533333,  3.36533333,  3.41866667,\n",
       "        3.41866667,  3.424     ,  3.424     ,  3.424     ,  3.424     ,\n",
       "        3.424     ,  3.424     ,  3.424     ,  3.42933333,  3.42933333,\n",
       "        3.42933333,  3.42933333,  3.42933333,  3.42933333,  3.42933333,\n",
       "        3.43466667,  3.43466667,  3.43466667,  3.43466667,  4.544     ,\n",
       "        4.544     ,  4.54933333,  4.54933333,  4.55466667,  4.55466667,\n",
       "        4.56      ,  4.56533333,  4.56533333,  4.57066667,  4.576     ,\n",
       "        4.576     ,  4.58133333,  4.58133333,  4.592     ,  4.59733333,\n",
       "        4.59733333,  4.60266667,  4.60266667,  4.608     ,  4.608     ,\n",
       "        4.61333333,  4.61333333,  4.61333333,  4.61866667,  4.61866667,\n",
       "        4.61866667,  4.624     ,  4.624     ,  4.624     ,  4.62933333,\n",
       "        4.62933333,  4.62933333,  4.63466667,  4.63466667,  4.63466667,\n",
       "        4.64      ,  4.64      ,  4.64      ,  4.64533333,  4.64533333,\n",
       "        4.64533333,  4.65066667,  4.65066667,  4.65066667,  4.656     ,\n",
       "        4.656     ,  4.656     ,  4.66133333,  4.66133333,  4.66133333,\n",
       "        4.66666667,  4.66666667,  4.672     ,  4.672     ,  5.77066667,\n",
       "        5.776     ,  5.776     ,  5.78133333,  5.78133333,  5.78133333,\n",
       "        5.78666667,  5.78666667,  5.78666667,  5.78666667,  5.792     ,\n",
       "        5.792     ,  5.792     ,  5.792     ,  5.79733333,  5.79733333,\n",
       "        5.79733333,  5.79733333,  5.79733333,  5.80266667,  5.80266667,\n",
       "        5.80266667,  5.81333333,  5.81866667,  5.824     ,  5.82933333,\n",
       "        7.92      ,  7.92533333,  7.93066667,  7.936     ,  7.936     ,\n",
       "        7.94133333,  7.94133333,  7.94666667,  7.952     ,  7.95733333,\n",
       "        8.048     ,  8.05333333,  8.05866667,  8.064     ,  8.06933333,\n",
       "        8.07466667,  8.07466667,  8.07466667,  8.08      ,  8.08      ,\n",
       "        8.08533333,  8.08533333,  8.08533333,  8.09066667,  8.09066667,\n",
       "        8.09066667,  8.096     ,  8.096     ,  8.096     ,  8.10133333,\n",
       "        8.10133333,  8.10133333,  8.10666667,  8.10666667,  8.10666667,\n",
       "        8.112     ,  8.112     ,  8.112     ,  8.11733333,  8.11733333,\n",
       "        8.11733333,  8.12266667,  8.12266667,  8.12266667,  8.12266667,\n",
       "        8.128     ,  8.128     ,  8.128     ,  8.13333333,  8.13333333,\n",
       "        8.13866667,  8.144     ,  8.20266667,  8.208     ,  8.208     ,\n",
       "        8.21333333,  8.21333333,  8.21866667,  8.21866667,  8.224     ,\n",
       "        8.224     ,  8.224     ,  8.22933333,  8.22933333,  8.22933333,\n",
       "        8.23466667,  8.23466667,  8.23466667,  8.24      ,  8.24      ,\n",
       "        8.24      ,  8.24533333,  8.24533333,  8.24533333,  8.25066667,\n",
       "        8.25066667,  8.25066667,  8.26133333,  8.26666667,  8.272     ,\n",
       "        8.272     ,  8.27733333,  8.28266667,  8.288     ,  8.288     ,\n",
       "        8.29333333,  8.29333333,  8.29866667,  8.304     ,  8.304     ,\n",
       "        8.30933333,  8.30933333,  8.31466667,  8.32      ,  8.32533333,\n",
       "        8.44266667,  8.448     ,  8.448     ,  8.45333333,  8.45333333,\n",
       "        8.45866667,  8.45866667,  8.464     ,  8.464     ,  8.46933333,\n",
       "        8.46933333,  8.47466667,  8.47466667,  8.50133333,  8.50133333,\n",
       "        8.50666667,  8.50666667,  8.512     ,  8.512     ,  8.512     ,\n",
       "        8.51733333,  8.51733333,  8.52266667,  8.52266667,  8.52266667,\n",
       "        8.528     ,  8.528     ,  8.53333333,  8.53333333,  8.53866667,\n",
       "        8.53866667,  9.09333333,  9.09333333,  9.17333333,  9.17333333,\n",
       "        9.17333333,  9.17333333,  9.17866667,  9.17866667,  9.184     ,\n",
       "        9.184     ,  9.184     ,  9.216     ,  9.216     ,  9.216     ,\n",
       "        9.216     ,  9.22133333,  9.22133333,  9.22133333,  9.22133333,\n",
       "        9.22133333,  9.22133333,  9.22133333,  9.22666667,  9.22666667,\n",
       "        9.22666667,  9.232     ,  9.232     ,  9.232     ,  9.23733333,\n",
       "        9.23733333, 10.66666667, 10.672     , 10.672     , 10.69866667,\n",
       "       10.69866667, 10.704     , 10.704     , 10.70933333, 10.70933333,\n",
       "       10.71466667, 10.71466667, 10.72      , 10.72      , 10.72533333,\n",
       "       10.72533333, 10.73066667, 10.73066667, 10.736     , 10.76266667,\n",
       "       10.76266667, 10.768     , 10.768     , 10.832     , 10.832     ,\n",
       "       10.83733333, 10.83733333, 10.83733333, 10.84266667, 10.84266667,\n",
       "       10.84266667, 10.848     , 10.848     , 10.848     , 10.95466667,\n",
       "       10.96      , 10.96      , 10.96      , 10.96533333, 10.96533333,\n",
       "       10.97066667, 10.97066667, 10.976     , 10.976     , 10.976     ,\n",
       "       10.98133333, 10.98133333, 10.98666667, 10.99733333, 11.00266667,\n",
       "       11.008     , 11.008     , 11.01333333, 11.01333333, 11.01866667,\n",
       "       11.01866667, 11.024     , 11.024     , 11.06666667, 11.06666667,\n",
       "       11.06666667, 11.072     , 11.072     , 11.072     , 11.072     ,\n",
       "       11.07733333, 11.07733333, 11.08266667, 11.08266667, 11.088     ,\n",
       "       11.088     , 11.09333333, 11.09866667, 11.09866667, 11.104     ,\n",
       "       11.104     , 11.10933333, 11.10933333, 11.11466667, 11.11466667,\n",
       "       11.12      , 11.12      ])"
      ]
     },
     "execution_count": 43,
     "metadata": {},
     "output_type": "execute_result"
    }
   ],
   "source": [
    "point_x"
   ]
  },
  {
   "cell_type": "code",
   "execution_count": 41,
   "metadata": {},
   "outputs": [
    {
     "data": {
      "image/png": "[encoded data removed]",
      "text/plain": [
       "<Figure size 3600x360 with 2 Axes>"
      ]
     },
     "metadata": {
      "needs_background": "light"
     },
     "output_type": "display_data"
    }
   ],
   "source": [
    "fig, ax = plt.subplots(figsize=(50,5))\n",
    "im = ax.scatter(point_x,point_y, c=clustering.labels_[clustering.labels_!=-1], cmap=\"prism\")\n",
    "\n",
    "ax.set_ylim([0,20])\n",
    "ax.set_xlabel(\"Time(s)\")\n",
    "ax.set_ylabel(\"Frequency(KHz)\")\n",
    "c_bar = fig.colorbar(im)\n",
    "plt.tight_layout()"
   ]
  },
  {
   "cell_type": "code",
   "execution_count": 131,
   "metadata": {},
   "outputs": [],
   "source": [
    "cc = c[clustering.labels_!=-1]"
   ]
  },
  {
   "cell_type": "code",
   "execution_count": 139,
   "metadata": {},
   "outputs": [
    {
     "data": {
      "text/plain": [
       "array([[ 51,  34],\n",
       "       [ 52,  33],\n",
       "       [ 52,  34],\n",
       "       [ 53,  33],\n",
       "       [ 53,  34],\n",
       "       [ 54,  34],\n",
       "       [ 54,  35],\n",
       "       [ 55,  35],\n",
       "       [ 62,  38],\n",
       "       [ 63,  39],\n",
       "       [ 65,  40],\n",
       "       [ 91,  12],\n",
       "       [ 91,  13],\n",
       "       [ 92,  13],\n",
       "       [ 93,  13],\n",
       "       [ 95,  14],\n",
       "       [104,  21],\n",
       "       [105,  21],\n",
       "       [105,  22],\n",
       "       [105,  23],\n",
       "       [106,  21],\n",
       "       [106,  22],\n",
       "       [106,  23],\n",
       "       [107,  21],\n",
       "       [107,  22],\n",
       "       [107,  23],\n",
       "       [108,  22],\n",
       "       [108,  23],\n",
       "       [109,  23],\n",
       "       [116,  24]], dtype=int64)"
      ]
     },
     "execution_count": 139,
     "metadata": {},
     "output_type": "execute_result"
    }
   ],
   "source": [
    "cc[30:60]"
   ]
  },
  {
   "cell_type": "code",
   "execution_count": 140,
   "metadata": {},
   "outputs": [
    {
     "data": {
      "text/plain": [
       "array([0, 0, 0, 0, 0, 0, 0, 0, 0, 0, 0, 1, 1, 1, 1, 1, 1, 1, 1, 1, 1, 1,\n",
       "       1, 1, 1, 1, 1, 1, 1, 1], dtype=int64)"
      ]
     },
     "execution_count": 140,
     "metadata": {},
     "output_type": "execute_result"
    }
   ],
   "source": [
    "clustering.labels_[clustering.labels_!=-1][30:60]"
   ]
  },
  {
   "cell_type": "code",
   "execution_count": null,
   "metadata": {},
   "outputs": [],
   "source": []
  }
 ],
 "metadata": {
  "kernelspec": {
   "display_name": "Python 3",
   "language": "python",
   "name": "python3"
  },
  "language_info": {
   "codemirror_mode": {
    "name": "ipython",
    "version": 3
   },
   "file_extension": ".py",
   "mimetype": "text/x-python",
   "name": "python",
   "nbconvert_exporter": "python",
   "pygments_lexer": "ipython3",
   "version": "3.6.9"
  }
 },
 "nbformat": 4,
 "nbformat_minor": 5
}
