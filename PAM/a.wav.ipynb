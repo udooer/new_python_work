{
 "cells": [
  {
   "cell_type": "code",
   "execution_count": 1,
   "id": "documented-reunion",
   "metadata": {},
   "outputs": [],
   "source": [
    "import soundfile as sf"
   ]
  },
  {
   "cell_type": "code",
   "execution_count": 4,
   "id": "colored-teens",
   "metadata": {},
   "outputs": [],
   "source": [
    "file_name = 'C:\\\\Users\\\\dindong\\\\Downloads\\\\a.wav'\n",
    "data, fs = sf.read(file_name)\n",
    "if(len(data.shape)==2):\n",
    "    data = data[:,0]"
   ]
  },
  {
   "cell_type": "code",
   "execution_count": 5,
   "id": "ranking-auditor",
   "metadata": {},
   "outputs": [
    {
     "data": {
      "text/plain": [
       "(345120000,)"
      ]
     },
     "execution_count": 5,
     "metadata": {},
     "output_type": "execute_result"
    }
   ],
   "source": [
    "data.shape"
   ]
  },
  {
   "cell_type": "code",
   "execution_count": 11,
   "id": "marked-forth",
   "metadata": {},
   "outputs": [],
   "source": [
    "start_time = 20\n",
    "end_time = 25\n",
    "sample = data[start_time*60*fs:end_time*60*fs]\n",
    "sf.write('C:\\\\Users\\\\dindong\\\\Downloads\\\\a_clip.wav', sample, fs)"
   ]
  },
  {
   "cell_type": "code",
   "execution_count": 10,
   "id": "given-notice",
   "metadata": {},
   "outputs": [
    {
     "data": {
      "text/plain": [
       "(480000,)"
      ]
     },
     "execution_count": 10,
     "metadata": {},
     "output_type": "execute_result"
    }
   ],
   "source": [
    "sample.shape"
   ]
  },
  {
   "cell_type": "code",
   "execution_count": null,
   "id": "corresponding-bowling",
   "metadata": {},
   "outputs": [],
   "source": []
  }
 ],
 "metadata": {
  "kernelspec": {
   "display_name": "Python 3",
   "language": "python",
   "name": "python3"
  },
  "language_info": {
   "codemirror_mode": {
    "name": "ipython",
    "version": 3
   },
   "file_extension": ".py",
   "mimetype": "text/x-python",
   "name": "python",
   "nbconvert_exporter": "python",
   "pygments_lexer": "ipython3",
   "version": "3.9.1"
  }
 },
 "nbformat": 4,
 "nbformat_minor": 5
}
