{
 "cells": [
  {
   "cell_type": "code",
   "execution_count": 1,
   "id": "sought-catalog",
   "metadata": {},
   "outputs": [],
   "source": [
    "import soundfile as sf\n",
    "import numpy as np\n",
    "import scipy.signal\n",
    "from scipy.fftpack import fft\n",
    "import math"
   ]
  },
  {
   "cell_type": "code",
   "execution_count": 2,
   "id": "professional-karma",
   "metadata": {},
   "outputs": [],
   "source": [
    "data, fs = sf.read(\"dolphinsound.wav\")\n",
    "ch1 = data[:,0]"
   ]
  },
  {
   "cell_type": "code",
   "execution_count": 3,
   "id": "collect-thanksgiving",
   "metadata": {},
   "outputs": [],
   "source": [
    "start_time = (27)\n",
    "end_time = (28)\n",
    "sample_time_series = ch1[fs*start_time:fs*end_time]"
   ]
  },
  {
   "cell_type": "code",
   "execution_count": 5,
   "id": "similar-mumbai",
   "metadata": {},
   "outputs": [
    {
     "name": "stdout",
     "output_type": "stream",
     "text": [
      "energy calculated from time aspect: 10.500572600647985\n"
     ]
    }
   ],
   "source": [
    "energy_T = np.sum(sample_time_series**2)\n",
    "print(\"energy calculated from time aspect: {}\".format(energy_T))"
   ]
  },
  {
   "cell_type": "code",
   "execution_count": 8,
   "id": "charitable-titanium",
   "metadata": {},
   "outputs": [
    {
     "name": "stdout",
     "output_type": "stream",
     "text": [
      "energy calculated from frequency aspect: 10.500572600647985\n"
     ]
    }
   ],
   "source": [
    "energy_F = np.sum(abs(fft(sample_time_series))**2)/len(sample_time_series)\n",
    "print(\"energy calculated from frequency aspect: {}\".format(energy_F))"
   ]
  },
  {
   "cell_type": "code",
   "execution_count": 9,
   "id": "based-theme",
   "metadata": {},
   "outputs": [],
   "source": [
    "f,t,z = scipy.signal.stft(sample_time_series, fs=fs, window='hann', nperseg=1024, \n",
    "                      noverlap=int(1024*.9), nfft=None, boundary=None,\n",
    "                      padded=False)"
   ]
  },
  {
   "cell_type": "code",
   "execution_count": 17,
   "id": "another-tamil",
   "metadata": {},
   "outputs": [],
   "source": [
    "windowed_sample = sample_time_series[:1024]*scipy.signal.get_window(\"hann\", 1024, fftbins=True)"
   ]
  },
  {
   "cell_type": "code",
   "execution_count": 39,
   "id": "fresh-aerospace",
   "metadata": {},
   "outputs": [
    {
     "name": "stdout",
     "output_type": "stream",
     "text": [
      "energy calculated from time aspect: 0.03658849331154906\n",
      "energy calculated from frequency aspect: 0.03658849331154905\n",
      "energy calculated from frequency aspect: 0.03672491956058892\n"
     ]
    }
   ],
   "source": [
    "windowed_sample = sample_time_series[:1024]*scipy.signal.get_window(\"hann\", 1024, fftbins=True)\n",
    "energy_windowed_T = np.sum(windowed_sample**2)\n",
    "energy_windowed_F = np.sum(abs(fft(windowed_sample))**2)/1024\n",
    "energy_windowed_stft = np.sum(abs(z[:,0]*1024/2)**2)*2/1024\n",
    "print(\"energy calculated from time aspect: {}\".format(energy_windowed_T))\n",
    "print(\"energy calculated from frequency aspect: {}\".format(energy_windowed_F))\n",
    "print(\"energy calculated from frequency aspect: {}\".format(energy_windowed_stft))"
   ]
  },
  {
   "cell_type": "code",
   "execution_count": 40,
   "id": "baking-finish",
   "metadata": {},
   "outputs": [
    {
     "data": {
      "text/plain": [
       "array([0., 0., 0., 0., 0., 0., 0., 0., 0., 0., 0., 0., 0., 0., 0., 0., 0.,\n",
       "       0., 0., 0., 0., 0., 0., 0., 0., 0., 0., 0., 0., 0., 0., 0., 0., 0.,\n",
       "       0., 0., 0., 0., 0., 0., 0., 0., 0., 0., 0., 0., 0., 0., 0., 0., 0.,\n",
       "       0., 0., 0., 0., 0., 0., 0., 0., 0., 0., 0., 0., 0., 0., 0., 0., 0.,\n",
       "       0., 0., 0., 0., 0., 0., 0., 0., 0., 0., 0., 0., 0., 0., 0., 0., 0.,\n",
       "       0., 0., 0., 0., 0., 0., 0., 0., 0., 0., 0., 0., 0., 0., 0., 0., 0.,\n",
       "       0., 0., 0., 0., 0., 0., 0., 0., 0., 0., 0., 0., 0., 0., 0., 0., 0.,\n",
       "       0., 0., 0., 0., 0., 0., 0., 0., 0., 0., 0., 0., 0., 0., 0., 0., 0.,\n",
       "       0., 0., 0., 0., 0., 0., 0., 0., 0., 0., 0., 0., 0., 0., 0., 0., 0.,\n",
       "       0., 0., 0., 0., 0., 0., 0., 0., 0., 0., 0., 0., 0., 0., 0., 0., 0.,\n",
       "       0., 0., 0., 0., 0., 0., 0., 0., 0., 0., 0., 0., 0., 0., 0., 0., 0.,\n",
       "       0., 0., 0., 0., 0., 0., 0., 0., 0., 0., 0., 0., 0., 0., 0., 0., 0.,\n",
       "       0., 0., 0., 0., 0., 0., 0., 0., 0., 0., 0., 0., 0., 0., 0., 0., 0.,\n",
       "       0., 0., 0., 0., 0., 0., 0., 0., 0., 0., 0., 0., 0., 0., 0., 0., 0.,\n",
       "       0., 0., 0., 0., 0., 0., 0., 0., 0., 0., 0., 0., 0., 0., 0., 0., 0.,\n",
       "       0., 0., 0., 0., 0., 0., 0., 0., 0., 0., 0., 0., 0., 0., 0., 0., 0.,\n",
       "       0., 0., 0., 0., 0., 0., 0., 0., 0., 0., 0., 0., 0., 0., 0., 0., 0.,\n",
       "       0., 0., 0., 0., 0., 0., 0., 0., 0., 0., 0., 0., 0., 0., 0., 0., 0.,\n",
       "       0., 0., 0., 0., 0., 0., 0., 0., 0., 0., 0., 0., 0., 0., 0., 0., 0.,\n",
       "       0., 0., 0., 0., 0., 0., 0., 0., 0., 0., 0., 0., 0., 0., 0., 0., 0.,\n",
       "       0., 0., 0., 0., 0., 0., 0., 0., 0., 0., 0., 0., 0., 0., 0., 0., 0.,\n",
       "       0., 0., 0., 0., 0., 0., 0., 0., 0., 0., 0., 0., 0., 0., 0., 0., 0.,\n",
       "       0., 0., 0., 0., 0., 0., 0., 0., 0., 0., 0., 0., 0., 0., 0., 0., 0.,\n",
       "       0., 0., 0., 0., 0., 0., 0., 0., 0., 0., 0., 0., 0., 0., 0., 0., 0.,\n",
       "       0., 0., 0., 0., 0., 0., 0., 0., 0., 0., 0., 0., 0., 0., 0., 0., 0.,\n",
       "       0., 0., 0., 0., 0., 0., 0., 0., 0., 0., 0., 0., 0., 0., 0., 0., 0.,\n",
       "       0., 0., 0., 0., 0., 0., 0., 0., 0., 0., 0., 0., 0., 0., 0., 0., 0.,\n",
       "       0., 0., 0., 0., 0., 0., 0., 0., 0., 0., 0., 0., 0., 0., 0., 0., 0.,\n",
       "       0., 0., 0., 0., 0., 0., 0., 0., 0., 0., 0., 0., 0., 0., 0., 0., 0.,\n",
       "       0., 0., 0., 0., 0., 0., 0., 0., 0., 0., 0., 0., 0., 0., 0., 0., 0.,\n",
       "       0., 0., 0.])"
      ]
     },
     "execution_count": 40,
     "metadata": {},
     "output_type": "execute_result"
    }
   ],
   "source": [
    "abs(fft(windowed_sample))[:513]-abs(z[:,0]*1024/2)"
   ]
  },
  {
   "cell_type": "code",
   "execution_count": 81,
   "id": "sunset-filter",
   "metadata": {},
   "outputs": [
    {
     "name": "stdout",
     "output_type": "stream",
     "text": [
      "energy calculated from time aspect: 10.500572600647985\n",
      "energy calculated from windowed time aspect: 10.577472755950494\n"
     ]
    }
   ],
   "source": [
    "end_index = 1024\n",
    "hop_size = int(1024*0.37)\n",
    "window = scipy.signal.get_window(\"hann\", 1024, fftbins=True)\n",
    "energy_windowed_total = 0\n",
    "while(end_index<len(sample_time_series)):\n",
    "    windowed_sample = sample_time_series[end_index-1024:end_index]*window\n",
    "    end_index += hop_size\n",
    "    energy_windowed_total += np.sum(windowed_sample**2)\n",
    "\n",
    "energy_T = np.sum(sample_time_series**2)\n",
    "print(\"energy calculated from time aspect: {}\".format(energy_T))\n",
    "print(\"energy calculated from windowed time aspect: {}\".format(energy_windowed_total))"
   ]
  }
 ],
 "metadata": {
  "kernelspec": {
   "display_name": "Python 3",
   "language": "python",
   "name": "python3"
  },
  "language_info": {
   "codemirror_mode": {
    "name": "ipython",
    "version": 3
   },
   "file_extension": ".py",
   "mimetype": "text/x-python",
   "name": "python",
   "nbconvert_exporter": "python",
   "pygments_lexer": "ipython3",
   "version": "3.9.1"
  }
 },
 "nbformat": 4,
 "nbformat_minor": 5
}
